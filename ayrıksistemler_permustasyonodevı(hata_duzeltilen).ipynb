{
  "nbformat": 4,
  "nbformat_minor": 0,
  "metadata": {
    "colab": {
      "name": "ayrıksistemler_permustasyonodevı.ipynb",
      "provenance": [],
      "authorship_tag": "ABX9TyO8edfdmCBkDsI7M0ONINh0",
      "include_colab_link": true
    },
    "kernelspec": {
      "name": "python3",
      "display_name": "Python 3"
    }
  },
  "cells": [
    {
      "cell_type": "markdown",
      "metadata": {
        "id": "view-in-github",
        "colab_type": "text"
      },
      "source": [
        "<a href=\"https://colab.research.google.com/github/cemceliktas/ayriksistemlerveileriolasilik/blob/master/ayr%C4%B1ksistemler_permustasyonodev%C4%B1(hata_duzeltilen).ipynb\" target=\"_parent\"><img src=\"https://colab.research.google.com/assets/colab-badge.svg\" alt=\"Open In Colab\"/></a>"
      ]
    },
    {
      "cell_type": "code",
      "metadata": {
        "id": "2weQEakq1g12",
        "colab_type": "code",
        "colab": {}
      },
      "source": [
        "\n",
        "\n",
        "\n",
        "\n",
        "\n",
        "Soru: Güvercin Yasası Prensibi\n",
        "\n",
        "Bir hastanede 20 adet muayenehane bulunmaktadır , Sağlık heyeti tarafından hangi muayenehanede daha çok hasta muayene edildiğini araştırmak için muayenehanelerde çalışan sağlık personelinden 5 kişilik bir heyet kurmak istemektedir.Seçimin adil olması açısından bu seçilecek heyetin anket sonuçlarına göre olması kararlaştırılmıştır . En az kaç kişi anket doldurmalıdır ki sağlık heyeti bir muayenehane seçip heyeti oluşturabilsin.\n",
        "\n",
        "Çözüm:\n",
        "\n",
        "k=4\n",
        "\n",
        "k.n+1 = 4.20 +1= 81 kişi ankete cevap vermelidir.\n",
        "\n",
        "Açıklama:\n",
        "\n",
        "Güvercin Yasası Prensibi: K güvercin sayısı, N yuva saysısı olmak üzere en az bir yuvada ceil(K/N) sayıda güvercin bulunur. Prensibi genelleştirirsek; eğer KxN+1 veya daha fazla güvercin, N yuvaya konulacaksa, en az bir yuvada K' dan fazla güvercin olacaktır.\n",
        "\n",
        "Soruda genel güvercin yuvası prensibi gereği, k=4 olur. Prensibin genelleştirilmiş haline göre k.n+1 = 4.20 +1= 81 cevabına ulaşılır."
      ],
      "execution_count": 0,
      "outputs": []
    },
    {
      "cell_type": "markdown",
      "metadata": {
        "id": "gHhsRnJk5Sw9",
        "colab_type": "text"
      },
      "source": [
        ""
      ]
    },
    {
      "cell_type": "code",
      "metadata": {
        "id": "cnTZA9Fm1kv7",
        "colab_type": "code",
        "colab": {}
      },
      "source": [
        "# Cem ÇELİKTAŞ\n",
        "\n",
        "import math\n",
        "\n",
        "def guvercinYasasi(x,y): # Guvercin yasası isimli bir fonksiyon oluşturuldu\n",
        "\n",
        "  \n",
        "  k= math.ceil(x/y) # Güvercin Yasası Prensibine göre k hesaplanır.\n",
        "  \n",
        "  g=k*x+1 #Güvercin Yasası Prensibinin genelleştirilmiş haline göre işlem yapılır ve sonuç bulunur.\n",
        "  \n",
        "  return g\n",
        "\n",
        "sonuc=guvercinYasasi(20,5)\n",
        "print(\"Ankete cevap verecek en az kişi sayısı: \",sonuc,\"dir\")\n"
      ],
      "execution_count": 0,
      "outputs": []
    },
    {
      "cell_type": "markdown",
      "metadata": {
        "id": "QYYr-dwj1oTA",
        "colab_type": "text"
      },
      "source": [
        "PERMÜTASYON ÖDEVİ\n",
        "\n",
        "\"SANAYAKINBANAUZA\" kelimesindeki harfler yer değiştirilerek anlamlı veya anlamsız 16 harfden oluşan kelimeler oluşturulacaktır. Oluşturulacak olan bu kelimelerin A ile başlayıp N ile bitme olasılığı kaçtır?\n",
        "\n",
        "Çözüm:\n",
        "\n",
        "İstenilen Durum: A ve N harflerinin çıkarılması\n",
        "\n",
        "P(A)= 14! / (1!5!2!*1!)= 90810720\n",
        "\n",
        "Örnek Uzay: Tüm harflerin bulunması\n",
        "\n",
        "P(B)= 16! / (1!6!3!*1!)= 48432384\n",
        "\n",
        "Olasılık Sonucu:\n",
        "\n",
        "P(A)/P(B)= 0.533\n",
        "\n",
        "Tekrarlı Permütasyon = N! / n1!n2!n3!....nn!"
      ]
    },
    {
      "cell_type": "code",
      "metadata": {
        "id": "kzORaJFC1yDy",
        "colab_type": "code",
        "outputId": "a30e122d-34c4-4180-b04a-73b28e96d067",
        "colab": {
          "base_uri": "https://localhost:8080/",
          "height": 84
        }
      },
      "source": [
        "# Cem ÇELİKTAŞ\n",
        "\n",
        "\n",
        "def permutasyon(n): #kendisine gönderilen sayının faktoriyelini hesaplar\n",
        "    if n==1:\n",
        "        return 1\n",
        "    else:\n",
        "        return n * permHesapla(n-1)\n",
        "\n",
        "istenilenDurum= float(permutasyon(14)/(permutasyon(1)*permutasyon(5)*permutasyon(2)*permutasyon(1))) #İstenilen durum, A ve N harflerinin çıkarılması ile tekrarlı permütasyon şeklinde hesaplanır.\n",
        "\n",
        "tumDurumlar= float(permutasyon(16)/(permutasyon(1)*permutasyon(6)*permutasyon(3)*permutasyon(1))) #Tüm durumlar, tüm harflerle birlikte tekrarlı permütasyon şeklinde hesaplanır.\n",
        "\n",
        "olSonuc=float(istenilenDurum/tumDurumlar) #İstenilen durumun, Tüm durumlara bölünmesi ile olasılık sonucu hesaplanır.\n",
        "\n",
        "print(\"İstenilen Durum: P(A)= 14! / (1!*5!*2!*1!)= \",istenilenDurum)\n",
        "print(\"Tüm Durumlar: P(B)= 16! / (1!*6!*3!*1!)= \",tumDurumlar)\n",
        "\n",
        "print(\"\\nOlasılık : P(A)/P(B)= \", olSonuc)"
      ],
      "execution_count": 0,
      "outputs": [
        {
          "output_type": "stream",
          "text": [
            "İstenilen Durum: P(A)= 14! / (2!*5!*2!*2!)=  90810720.0\n",
            "Tüm Durumlar: P(B)= 16! / (2!*6!*3!*2!)=  1210809600.0\n",
            "\n",
            "Olasılık : P(A)/P(B)=  0.075\n"
          ],
          "name": "stdout"
        }
      ]
    }
  ]
}