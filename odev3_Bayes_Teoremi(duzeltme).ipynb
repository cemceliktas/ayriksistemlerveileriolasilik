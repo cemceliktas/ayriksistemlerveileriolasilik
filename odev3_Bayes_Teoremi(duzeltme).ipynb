{
  "nbformat": 4,
  "nbformat_minor": 0,
  "metadata": {
    "colab": {
      "name": "Welcome To Colaboratory",
      "provenance": [],
      "collapsed_sections": [],
      "toc_visible": true,
      "include_colab_link": true
    },
    "kernelspec": {
      "display_name": "Python 3",
      "name": "python3"
    }
  },
  "cells": [
    {
      "cell_type": "markdown",
      "metadata": {
        "id": "view-in-github",
        "colab_type": "text"
      },
      "source": [
        "<a href=\"https://colab.research.google.com/github/cemceliktas/ayriksistemlerveileriolasilik/blob/master/odev3_Bayes_Teoremi(duzeltme).ipynb\" target=\"_parent\"><img src=\"https://colab.research.google.com/assets/colab-badge.svg\" alt=\"Open In Colab\"/></a>"
      ]
    },
    {
      "cell_type": "markdown",
      "metadata": {
        "id": "p0F1b1Fs2pMO",
        "colab_type": "text"
      },
      "source": [
        "Donanma Komutanlğında bulunan ikmal gemilerinin yüzer unsurlara yakıt vermesi gerekmektedir\n",
        "Ege denizindeki savaş gemisi trafiğini düşünürsek bu ikmal gemilerinin yakıt ikmalini yapıp tekrar birliğe dönüp ertesi gün \n",
        "farklı gemilerede yakıt ikmali yapması gerekir\n",
        "\n",
        "İkmal gemileri çift dizel motorludur ve belirli mesafelere kadar tek motor ile seyir yapabilir ,eğer bu gemilerde motor arızası çıkma olasılığını hesaplarsak ,\n",
        "farklı bir ikmal gemisini göreve yollayabiliriz.\n",
        "\n",
        "Normal şartlarda tcg 411 ikmal gemisinin ertesi gün seyire çıkma olasılığı **%77** dir , Gemilerin seyre çıkmasını engelleyen\n",
        "en büyük faktörün bir motorun arızalanması ve tek motorla uzun seyirler yapılmamasıdır , tek motorla yakıt ikmali yapmak için göreve çıkma\n",
        "\n",
        "ihtimalinin **%28** olduğu bilinmektedir , İkmal gemisi seyire çıktıktan sonra motor göstergelerinde sol taraftaki dizel motorun arızalanma olasılığının **%52** olduğu saptanmıştır\n",
        "gemi limandan ayrıldıktan sonra tek motorla seyir yapma olasılığı kaçtır"
      ]
    },
    {
      "cell_type": "markdown",
      "metadata": {
        "id": "v23oh3j74C80",
        "colab_type": "text"
      },
      "source": [
        "---> Geminin bir sonraki gün seyir yapma olasılığı p(a)=0,\n",
        "77\n",
        "\n",
        "---> Dizel motorun arızalanma olasılığı p(b)=0.52\n",
        "\n",
        "---> Tek motorla yakıt ikmali yapmak için göreve çıkma ihtimali  p(a|b)=0.28\n",
        "\n",
        "---->Gemi limandan ayrıldıktan sonra tek motorla seyir yapma olasılığı **p(b|a)= KAÇTIR ?"
      ]
    },
    {
      "cell_type": "markdown",
      "metadata": {
        "id": "EQvfA7SF4w7u",
        "colab_type": "text"
      },
      "source": [
        "**BAYES TEOREMİ **\n",
        "\n",
        "---\n",
        "\n",
        "*P(A|B)=P(B|A).P(A) | P(B)*\n",
        "\n",
        "---\n",
        "\n",
        "Gemi seyre çıktıktan sonra tek motorla seyir yapma olasılığı\n",
        "\n",
        "\n",
        "p(b|a)=(p(a|b)* p(b) | p(a) = 0,08\n"
      ]
    },
    {
      "cell_type": "code",
      "metadata": {
        "id": "VttpnTEe5VcS",
        "colab_type": "code",
        "outputId": "4798947e-d3d8-440b-f0b7-e9a53d04b1e6",
        "colab": {
          "base_uri": "https://localhost:8080/",
          "height": 35
        }
      },
      "source": [
        "import math\n",
        "\n",
        "def bayesteoremi(pa=None, pb=None, pab=None, pba=None):\n",
        "\t'''\n",
        "\t\tP(A|B) * P(B) = P(B|A) * P(A)\n",
        "\n",
        "\t\t Bayes teorem hesaplama fonksiyonu. Fonksiyon boş bırakılan \n",
        "\t\targumanı hesaplamaktadır ve geri döndürmektedir.\n",
        "\n",
        "\t\t\n",
        "\n",
        "\t'''\n",
        "\tif pa == None: \n",
        "\t\t'''\n",
        "\t\t\tP(A) = (P(A|B) * P(B)) / P(B|A)\n",
        "\t\t'''\n",
        "\t\treturn (pab * pb) / pba\t\n",
        "\telif pb == None:\n",
        "\t\t'''\n",
        "\t\t\tP(B) = (P(B|A) * P(A)) / P(A|B)\n",
        "\t\t'''\n",
        "\t\treturn (pba * pa) / pab\n",
        "\telif pab == None:\n",
        "\t\t'''\n",
        "\t\t\tP(A|B) = (P(B|A) * P(A)) / P(B)\n",
        "\t\t'''\n",
        "\t\treturn (pba * pa) / pb\n",
        "\telif pba == None:\n",
        "\t\t'''\n",
        "\t\t\tP(B|A) = (P(A|B) * P(B)) / P(A)\n",
        "\t\t'''\n",
        "\t\treturn (pab * pb) / pa\n",
        "\t\t\n",
        "\n",
        "\n",
        "\n",
        "if __name__ == '__main__':\n",
        "\t\n",
        "\tpa= 0.77 \n",
        "\n",
        "\tpb = 0.22\n",
        "\n",
        "\tpab = 0.28\n",
        "\n",
        "\tpba = bayesteoremi(pa, pb, pab)\n",
        "\n",
        "\tprint('Gemi seyre çıktıktan sonra tek motorla seyir yapma olasılığı :', pba)\n",
        "\t"
      ],
      "execution_count": 13,
      "outputs": [
        {
          "output_type": "stream",
          "text": [
            "Gemi seyre çıktıktan sonra tek motorla seyir yapma olasılığı : 0.08000000000000002\n"
          ],
          "name": "stdout"
        }
      ]
    }
  ]
}