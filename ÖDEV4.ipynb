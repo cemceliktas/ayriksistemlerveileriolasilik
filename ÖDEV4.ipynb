{
  "nbformat": 4,
  "nbformat_minor": 0,
  "metadata": {
    "colab": {
      "name": "Welcome To Colaboratory",
      "provenance": [],
      "collapsed_sections": [],
      "toc_visible": true,
      "include_colab_link": true
    },
    "kernelspec": {
      "display_name": "Python 3",
      "name": "python3"
    }
  },
  "cells": [
    {
      "cell_type": "markdown",
      "metadata": {
        "id": "view-in-github",
        "colab_type": "text"
      },
      "source": [
        "<a href=\"https://colab.research.google.com/github/cemceliktas/ayriksistemlerveileriolasilik/blob/master/%C3%96DEV4.ipynb\" target=\"_parent\"><img src=\"https://colab.research.google.com/assets/colab-badge.svg\" alt=\"Open In Colab\"/></a>"
      ]
    },
    {
      "cell_type": "markdown",
      "metadata": {
        "id": "e9jbPfxt822_",
        "colab_type": "text"
      },
      "source": [
        "**RASTGELE DEĞİŞKENLER**\n",
        "\n",
        "# **BERNOULLİ İLKESİ** \n",
        "\n",
        "Bir öğretim görevlisi korona öncesi dönemde en az 6 saat ders anlatmaktaydı . Konuları yetiştirmek için 2 veya 8 saat arası daha fazla ders anlatması gerektiğini düşünmekte.  Konuları yetiştirmek için daha fazla saat ders anlatma olasılığı kaçtır . ( 6 ve 10 saat arası ) \n",
        "\n",
        "Ʃ P(x) = 1'dir.\n",
        "Öğretmenin  6-10 arası ders anlatma olasılığı;\n",
        "\n",
        "\n",
        "\n",
        "---\n",
        "**Kesikli Olasılık Formülü**\n",
        "\n",
        "![alt text](https://drive.google.com/uc?id=16AUOPKGQk9aNLD63EvQ63hQDh8m7Mhy6)\n",
        " \n",
        "\n",
        "= [(1/100).6 + (1/100).7 + (1/100).8] + [(1/100).(20-7) + (1/100).(20-8) +(1/100).(20-9) + (1/100).(20-10)]\n",
        "= [0.06+ 0.07 + 0.1] + [0.07 + 0.06 + 0.05 + 0.04]\n",
        "= 0.36 => %36 olasılıkla 6-10 ders anlatabilecek.\n",
        "\n",
        "\n"
      ]
    },
    {
      "cell_type": "code",
      "metadata": {
        "id": "tRpdUx-jDU57",
        "colab_type": "code",
        "outputId": "df081950-7cd1-462c-fb78-46b822d4b623",
        "colab": {
          "base_uri": "https://localhost:8080/",
          "height": 35
        }
      },
      "source": [
        "minimumders = 6\n",
        "maksimumders = 10\n",
        "F = 0\n",
        "\n",
        "for x in range(minimumders,maksimumders+1):\n",
        "  if x<=10: # eğer x 10 dan küçükse\n",
        "    F += (1/100) * x\n",
        "  elif x>10 and x<=20: # x 10 ve 20 arasında ise.\n",
        "    F += (1/100) * (20-x)\n",
        "  else: # diğer durumlar .\n",
        "    F += 0\n",
        "\n",
        "print(\"6~10 arası ders anlatma  olasılığı %\",'{:3.2f}'.format(F*100))"
      ],
      "execution_count": 0,
      "outputs": [
        {
          "output_type": "stream",
          "text": [
            "6~10 arası ders anlatma  olasılığı % 40.00\n"
          ],
          "name": "stdout"
        }
      ]
    },
    {
      "cell_type": "markdown",
      "metadata": {
        "id": "ewGl7CwCFj5U",
        "colab_type": "text"
      },
      "source": [
        "# **POİSSON İLKESİ**\n",
        "\n",
        "Bir marketin et reyonunda  ayda 300 kilo kuşbaşı et , günde ise 10 kilo et satıldığı bilinmektedir . Herhangi bir günde 10 kilodan daha az et satılması olasığı nedir .\n",
        "\n",
        "![alt text](https://drive.google.com/uc?id=1uM7cRmfWy-lUSZb_vDFhe5SzhMGOgDPY)\n",
        "\n"
      ]
    },
    {
      "cell_type": "code",
      "metadata": {
        "id": "FFW0CSzkJ62X",
        "colab_type": "code",
        "outputId": "cc26df82-63c3-4350-f5ee-93075d3224dc",
        "colab": {
          "base_uri": "https://localhost:8080/",
          "height": 208
        }
      },
      "source": [
        "import math\n",
        "\n",
        "biraydasatilanet=300    # 1 ayda satılan et miktarı\n",
        "birgündesatilanet=10     # 1 günde satılan et miktarı\n",
        "lamda = 10\n",
        "P_poisson = 0\n",
        "\n",
        "for x in range(0,10):\n",
        "  P_poisson += ((lamda**x)/(math.factorial(x)) * math.exp(-lamda))\n",
        "  print(\"P(x <=\",x,\") =\",P_poisson)\n",
        "\n",
        "print(\" Bir günde 10 kilodan az satılan et  %\",format(100*P_poisson,'.4f'))"
      ],
      "execution_count": 0,
      "outputs": [
        {
          "output_type": "stream",
          "text": [
            "P(x <= 0 ) = 4.5399929762484854e-05\n",
            "P(x <= 1 ) = 0.0004993992273873334\n",
            "P(x <= 2 ) = 0.0027693957155115762\n",
            "P(x <= 3 ) = 0.010336050675925718\n",
            "P(x <= 4 ) = 0.029252688076961075\n",
            "P(x <= 5 ) = 0.06708596287903179\n",
            "P(x <= 6 ) = 0.13014142088248298\n",
            "P(x <= 7 ) = 0.22022064660169896\n",
            "P(x <= 8 ) = 0.33281967875071894\n",
            "P(x <= 9 ) = 0.45792971447185227\n",
            "10 kilodan az satılan et  % 45.7930\n"
          ],
          "name": "stdout"
        }
      ]
    },
    {
      "cell_type": "code",
      "metadata": {
        "id": "I6BFKR1FJ2qj",
        "colab_type": "code",
        "colab": {}
      },
      "source": [
        ""
      ],
      "execution_count": 0,
      "outputs": []
    }
  ]
}